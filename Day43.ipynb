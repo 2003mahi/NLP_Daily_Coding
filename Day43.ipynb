{
  "nbformat": 4,
  "nbformat_minor": 0,
  "metadata": {
    "colab": {
      "provenance": []
    },
    "kernelspec": {
      "name": "python3",
      "display_name": "Python 3"
    },
    "language_info": {
      "name": "python"
    }
  },
  "cells": [
    {
      "cell_type": "code",
      "execution_count": 1,
      "metadata": {
        "colab": {
          "base_uri": "https://localhost:8080/"
        },
        "id": "JzLGtW-2Exhp",
        "outputId": "62ca8932-33e4-48b3-f410-151d430e3810"
      },
      "outputs": [
        {
          "output_type": "stream",
          "name": "stdout",
          "text": [
            "You: hi\n",
            "Bot: I'm not sure how to respond to that.\n"
          ]
        }
      ],
      "source": [
        "\n",
        "def chatbot():\n",
        "  user_input = input(\"You: \")\n",
        "  if user_input == \"Hello\":\n",
        "    print(\"Bot: Hi! How can I help you?\")\n",
        "  elif user_input == \"Bye\":\n",
        "    print(\"Bot: Goodbye! Have a nice day!\")\n",
        "  else:\n",
        "    print(\"Bot: I'm not sure how to respond to that.\")\n",
        "\n",
        "chatbot()\n"
      ]
    }
  ]
}