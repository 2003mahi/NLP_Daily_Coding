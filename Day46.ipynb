{
  "nbformat": 4,
  "nbformat_minor": 0,
  "metadata": {
    "colab": {
      "provenance": []
    },
    "kernelspec": {
      "name": "python3",
      "display_name": "Python 3"
    },
    "language_info": {
      "name": "python"
    }
  },
  "cells": [
    {
      "cell_type": "code",
      "execution_count": null,
      "metadata": {
        "colab": {
          "base_uri": "https://localhost:8080/"
        },
        "id": "JzLGtW-2Exhp",
        "outputId": "62ca8932-33e4-48b3-f410-151d430e3810"
      },
      "outputs": [
        {
          "output_type": "stream",
          "name": "stdout",
          "text": [
            "You: hi\n",
            "Bot: I'm not sure how to respond to that.\n"
          ]
        }
      ],
      "source": [
        "\n",
        "def chatbot():\n",
        "  user_input = input(\"You: \")\n",
        "  if user_input == \"Hello\":\n",
        "    print(\"Bot: Hi! How can I help you?\")\n",
        "  elif user_input == \"Bye\":\n",
        "    print(\"Bot: Goodbye! Have a nice day!\")\n",
        "  else:\n",
        "    print(\"Bot: I'm not sure how to respond to that.\")\n",
        "\n",
        "chatbot()\n"
      ]
    },
    {
      "cell_type": "code",
      "source": [
        "\n",
        "def chatbot():\n",
        "  responses = {\n",
        "      \"Hello\": \"Hi! How can I help you?\",\n",
        "      \"How are you?\": \"I'm doing well, thank you!\",\n",
        "      \"Bye\": \"Goodbye! Have a nice day!\"\n",
        "  }\n",
        "  user_input = input(\"You: \")\n",
        "  if user_input in responses:\n",
        "    print(\"Bot:\", responses[user_input])\n",
        "  else:\n",
        "    print(\"Bot: I'm not sure how to respond to that.\")\n",
        "\n",
        "chatbot()\n"
      ],
      "metadata": {
        "id": "Hhc_yvRS16u8",
        "outputId": "f33eb06e-3af7-487c-f238-e48fad4ae230",
        "colab": {
          "base_uri": "https://localhost:8080/"
        }
      },
      "execution_count": 1,
      "outputs": [
        {
          "output_type": "stream",
          "name": "stdout",
          "text": [
            "You: hi\n",
            "Bot: I'm not sure how to respond to that.\n"
          ]
        }
      ]
    }
  ]
}