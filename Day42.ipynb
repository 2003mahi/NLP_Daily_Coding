{
  "nbformat": 4,
  "nbformat_minor": 0,
  "metadata": {
    "colab": {
      "provenance": []
    },
    "kernelspec": {
      "name": "python3",
      "display_name": "Python 3"
    },
    "language_info": {
      "name": "python"
    }
  },
  "cells": [
    {
      "cell_type": "code",
      "execution_count": null,
      "metadata": {
        "id": "JzLGtW-2Exhp"
      },
      "outputs": [],
      "source": [
        "!pip install openai==0.28\n",
        "\n",
        "import openai\n",
        "\n",
        "\n",
        "openai.api_key = \"YOUR_API_KEY\"\n",
        "\n",
        "def generate_text_completion(prompt):\n",
        "  response = openai.Completion.create(\n",
        "      engine=\"text-davinci-003\",\n",
        "      prompt=prompt,\n",
        "      max_tokens=50\n",
        "  )\n",
        "  return response.choices[0].text\n",
        "\n",
        "# Example usage\n",
        "prompt = \"Artificial Intelligence is...\"\n",
        "completion = generate_text_completion(prompt)\n",
        "completion"
      ]
    }
  ]
}